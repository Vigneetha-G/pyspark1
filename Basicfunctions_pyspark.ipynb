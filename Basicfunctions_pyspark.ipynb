{
  "nbformat": 4,
  "nbformat_minor": 0,
  "metadata": {
    "colab": {
      "provenance": []
    },
    "kernelspec": {
      "name": "python3",
      "display_name": "Python 3"
    },
    "language_info": {
      "name": "python"
    }
  },
  "cells": [
    {
      "cell_type": "code",
      "execution_count": 1,
      "metadata": {
        "id": "cP4Z5Uz3yjSV"
      },
      "outputs": [],
      "source": [
        "# 1. Install Java\n",
        "!apt-get install openjdk-11-jdk-headless -qq > /dev/null\n",
        "\n",
        "# 2. Download Spark 3.5.0 with Hadoop 3\n",
        "!wget -q https://archive.apache.org/dist/spark/spark-3.5.0/spark-3.5.0-bin-hadoop3.tgz\n",
        "!tar xf spark-3.5.0-bin-hadoop3.tgz\n",
        "\n",
        "# 3. Set environment variables\n",
        "import os\n",
        "os.environ[\"JAVA_HOME\"] = \"/usr/lib/jvm/java-11-openjdk-amd64\"\n",
        "os.environ[\"SPARK_HOME\"] = \"/content/spark-3.5.0-bin-hadoop3\""
      ]
    },
    {
      "cell_type": "code",
      "source": [
        "# 4. Install findspark\n",
        "!pip install -q findspark\n",
        "import findspark\n",
        "findspark.init()"
      ],
      "metadata": {
        "id": "eg8mkQh9yxgN"
      },
      "execution_count": 2,
      "outputs": []
    },
    {
      "cell_type": "code",
      "source": [
        "# 5. Start Spark session\n",
        "from pyspark.sql import SparkSession\n",
        "spark = SparkSession.builder.master(\"local[*]\").appName(\"Colab-PySpark\").getOrCreate()"
      ],
      "metadata": {
        "id": "u4SbtvGUy8Kg"
      },
      "execution_count": 3,
      "outputs": []
    },
    {
      "cell_type": "code",
      "source": [
        "spark"
      ],
      "metadata": {
        "colab": {
          "base_uri": "https://localhost:8080/",
          "height": 219
        },
        "id": "Daryba5EzEcd",
        "outputId": "6f94e260-3b4f-4b60-9f3e-6728e647c8dc"
      },
      "execution_count": 4,
      "outputs": [
        {
          "output_type": "execute_result",
          "data": {
            "text/plain": [
              "<pyspark.sql.session.SparkSession at 0x7efccd681f40>"
            ],
            "text/html": [
              "\n",
              "            <div>\n",
              "                <p><b>SparkSession - in-memory</b></p>\n",
              "                \n",
              "        <div>\n",
              "            <p><b>SparkContext</b></p>\n",
              "\n",
              "            <p><a href=\"http://d3a966615bff:4040\">Spark UI</a></p>\n",
              "\n",
              "            <dl>\n",
              "              <dt>Version</dt>\n",
              "                <dd><code>v3.5.0</code></dd>\n",
              "              <dt>Master</dt>\n",
              "                <dd><code>local[*]</code></dd>\n",
              "              <dt>AppName</dt>\n",
              "                <dd><code>Colab-PySpark</code></dd>\n",
              "            </dl>\n",
              "        </div>\n",
              "        \n",
              "            </div>\n",
              "        "
            ]
          },
          "metadata": {},
          "execution_count": 4
        }
      ]
    },
    {
      "cell_type": "code",
      "source": [
        "#create a dataframe\n",
        "df = spark.read.csv(\"/content/sample_data/sample_census_data.csv\",header=True,inferSchema=True)"
      ],
      "metadata": {
        "id": "OjKc-YjvzT5N"
      },
      "execution_count": 15,
      "outputs": []
    },
    {
      "cell_type": "code",
      "source": [
        "df.show()"
      ],
      "metadata": {
        "colab": {
          "base_uri": "https://localhost:8080/"
        },
        "id": "qiJ5XN1b1bYT",
        "outputId": "7eb10aa0-f427-41ed-a7c5-108a0dc10916"
      },
      "execution_count": 16,
      "outputs": [
        {
          "output_type": "stream",
          "name": "stdout",
          "text": [
            "+----------+----------+----------+----------+--------------+----+\n",
            "|     State|Population|Median_Age|Households|Average_Income|Year|\n",
            "+----------+----------+----------+----------+--------------+----+\n",
            "|California|  39538223|      36.5|  13000000|         78000|2020|\n",
            "|     Texas|  29145505|      34.8|   9800000|         67000|2020|\n",
            "|   Florida|  21538187|      42.0|   8000000|         61000|2020|\n",
            "|  New York|  20201249|      39.0|   7500000|         75000|2020|\n",
            "|  Illinois|  12812508|      38.5|   4900000|         68000|2020|\n",
            "+----------+----------+----------+----------+--------------+----+\n",
            "\n"
          ]
        }
      ]
    },
    {
      "cell_type": "code",
      "source": [
        "df.printSchema()"
      ],
      "metadata": {
        "colab": {
          "base_uri": "https://localhost:8080/"
        },
        "id": "f3APF0wf4E2k",
        "outputId": "44f692ba-6535-41f4-b6c4-232953a438dd"
      },
      "execution_count": 17,
      "outputs": [
        {
          "output_type": "stream",
          "name": "stdout",
          "text": [
            "root\n",
            " |-- State: string (nullable = true)\n",
            " |-- Population: integer (nullable = true)\n",
            " |-- Median_Age: double (nullable = true)\n",
            " |-- Households: integer (nullable = true)\n",
            " |-- Average_Income: integer (nullable = true)\n",
            " |-- Year: integer (nullable = true)\n",
            "\n"
          ]
        }
      ]
    },
    {
      "cell_type": "code",
      "source": [
        "#  groupBy allows the use of SQL-like aggregations\n",
        "result_df = df.groupBy(\"Year\").agg({'Population':'sum'}).show()"
      ],
      "metadata": {
        "colab": {
          "base_uri": "https://localhost:8080/"
        },
        "id": "sk48xXQj4csS",
        "outputId": "1138353e-6745-4eac-d9f4-fa39b0ae7304"
      },
      "execution_count": 21,
      "outputs": [
        {
          "output_type": "stream",
          "name": "stdout",
          "text": [
            "+----+---------------+\n",
            "|Year|sum(Population)|\n",
            "+----+---------------+\n",
            "|2020|      123235672|\n",
            "+----+---------------+\n",
            "\n"
          ]
        }
      ]
    },
    {
      "cell_type": "code",
      "source": [
        "result_df2 = df.groupBy(\"Year\").agg({'Median_Age':'avg'}).show()"
      ],
      "metadata": {
        "colab": {
          "base_uri": "https://localhost:8080/"
        },
        "id": "bRPeiCZt6prk",
        "outputId": "34adc5c5-f85c-428e-b4d6-5c28eda8c39d"
      },
      "execution_count": 25,
      "outputs": [
        {
          "output_type": "stream",
          "name": "stdout",
          "text": [
            "+----+------------------+\n",
            "|Year|   avg(Median_Age)|\n",
            "+----+------------------+\n",
            "|2020|38.160000000000004|\n",
            "+----+------------------+\n",
            "\n"
          ]
        }
      ]
    },
    {
      "cell_type": "code",
      "source": [
        "#using filter and select\n",
        "filtered_df= df.filter(df['State']=='Texas').select(\"Median_Age\",\"Average_Income\")"
      ],
      "metadata": {
        "id": "VK55vzy47orX"
      },
      "execution_count": 29,
      "outputs": []
    },
    {
      "cell_type": "code",
      "source": [
        "filtered_df.show()"
      ],
      "metadata": {
        "colab": {
          "base_uri": "https://localhost:8080/"
        },
        "id": "-CP1f6jQ8Blj",
        "outputId": "1c784855-f398-4dc6-aa65-a7537fdc64af"
      },
      "execution_count": 30,
      "outputs": [
        {
          "output_type": "stream",
          "name": "stdout",
          "text": [
            "+----------+--------------+\n",
            "|Median_Age|Average_Income|\n",
            "+----------+--------------+\n",
            "|      34.8|         67000|\n",
            "+----------+--------------+\n",
            "\n"
          ]
        }
      ]
    },
    {
      "cell_type": "code",
      "source": [
        "#sort\n",
        "df.sort(\"Average_Income\").show()"
      ],
      "metadata": {
        "colab": {
          "base_uri": "https://localhost:8080/"
        },
        "id": "ncQWLMt584PV",
        "outputId": "66d8cc61-7bd1-42e1-99d9-1694bd6cfbc8"
      },
      "execution_count": 32,
      "outputs": [
        {
          "output_type": "stream",
          "name": "stdout",
          "text": [
            "+----------+----------+----------+----------+--------------+----+\n",
            "|     State|Population|Median_Age|Households|Average_Income|Year|\n",
            "+----------+----------+----------+----------+--------------+----+\n",
            "|   Florida|  21538187|      42.0|   8000000|         61000|2020|\n",
            "|     Texas|  29145505|      34.8|   9800000|         67000|2020|\n",
            "|  Illinois|  12812508|      38.5|   4900000|         68000|2020|\n",
            "|  New York|  20201249|      39.0|   7500000|         75000|2020|\n",
            "|California|  39538223|      36.5|  13000000|         78000|2020|\n",
            "+----------+----------+----------+----------+--------------+----+\n",
            "\n"
          ]
        }
      ]
    },
    {
      "cell_type": "code",
      "source": [
        "from pyspark.sql import Row\n",
        "from pyspark.sql.types import StructType, StructField, StringType, IntegerType, DoubleType"
      ],
      "metadata": {
        "id": "Z46sL9h8DL96"
      },
      "execution_count": 35,
      "outputs": []
    },
    {
      "cell_type": "code",
      "source": [
        "schema = StructType([\n",
        "    StructField(\"State\", StringType(), True),\n",
        "    StructField(\"Population\", IntegerType(), True),\n",
        "    StructField(\"Median_Age\", DoubleType(), True),\n",
        "    StructField(\"Households\", IntegerType(), True),\n",
        "    StructField(\"Average_Income\", IntegerType(), True),\n",
        "    StructField(\"Year\", IntegerType(), True)\n",
        "])"
      ],
      "metadata": {
        "id": "mRReGj-AC4ga"
      },
      "execution_count": 36,
      "outputs": []
    },
    {
      "cell_type": "code",
      "source": [
        "# Create a new row ( Median_Age = NULL)\n",
        "new_row_data = [(\"New Jersey\", 3104614, None, 1200000, 65000, 2020)]"
      ],
      "metadata": {
        "id": "Xb3g1mlqBTHb"
      },
      "execution_count": 37,
      "outputs": []
    },
    {
      "cell_type": "code",
      "source": [
        "# Create a new DataFrame with the new row\n",
        "new_row_df = spark.createDataFrame(new_row_data, schema)\n",
        "\n",
        "# Add the new row to the existing DataFrame\n",
        "updated_df = df.union(new_row_df)\n",
        "\n",
        "# Show the updated DataFrame\n",
        "updated_df.show()"
      ],
      "metadata": {
        "colab": {
          "base_uri": "https://localhost:8080/"
        },
        "id": "R2iEL99tDZNu",
        "outputId": "5df4e785-94e0-410e-b363-8facbccfa2d1"
      },
      "execution_count": 60,
      "outputs": [
        {
          "output_type": "stream",
          "name": "stdout",
          "text": [
            "+----------+----------+----------+----------+--------------+----+\n",
            "|     State|Population|Median_Age|Households|Average_Income|Year|\n",
            "+----------+----------+----------+----------+--------------+----+\n",
            "|California|  39538223|      36.5|  13000000|         78000|2020|\n",
            "|     Texas|  29145505|      34.8|   9800000|         67000|2020|\n",
            "|   Florida|  21538187|      42.0|   8000000|         61000|2020|\n",
            "|  New York|  20201249|      39.0|   7500000|         75000|2020|\n",
            "|  Illinois|  12812508|      38.5|   4900000|         68000|2020|\n",
            "|New Jersey|   3104614|      NULL|   1200000|         65000|2020|\n",
            "+----------+----------+----------+----------+--------------+----+\n",
            "\n"
          ]
        }
      ]
    },
    {
      "cell_type": "code",
      "source": [
        "#Data manipulation with DataFrames\n",
        "updated_df=updated_df.na.fill({\"Median_Age\":38.0})\n",
        "\n",
        "#use .na.drop() ->    to remove rows with null values\n",
        "#df.where(col(\" column_name\").isNotNull())->   filter out null values"
      ],
      "metadata": {
        "id": "E3qT2Y_ODjZe"
      },
      "execution_count": 40,
      "outputs": []
    },
    {
      "cell_type": "code",
      "source": [
        "updated_df.show()"
      ],
      "metadata": {
        "colab": {
          "base_uri": "https://localhost:8080/"
        },
        "id": "UzGmVLcRI6OT",
        "outputId": "aa75c5ae-14a7-4571-b07e-300fe16ee2e5"
      },
      "execution_count": 41,
      "outputs": [
        {
          "output_type": "stream",
          "name": "stdout",
          "text": [
            "+----------+----------+----------+----------+--------------+----+\n",
            "|     State|Population|Median_Age|Households|Average_Income|Year|\n",
            "+----------+----------+----------+----------+--------------+----+\n",
            "|California|  39538223|      36.5|  13000000|         78000|2020|\n",
            "|     Texas|  29145505|      34.8|   9800000|         67000|2020|\n",
            "|   Florida|  21538187|      42.0|   8000000|         61000|2020|\n",
            "|  New York|  20201249|      39.0|   7500000|         75000|2020|\n",
            "|  Illinois|  12812508|      38.5|   4900000|         68000|2020|\n",
            "|New Jersey|   3104614|      38.0|   1200000|         65000|2020|\n",
            "+----------+----------+----------+----------+--------------+----+\n",
            "\n"
          ]
        }
      ]
    },
    {
      "cell_type": "markdown",
      "source": [
        "**Column Operations**"
      ],
      "metadata": {
        "id": "uoN5vTGoJDuj"
      }
    },
    {
      "cell_type": "code",
      "source": [
        "#create a new column\n",
        "updated_df=updated_df.withColumn(\"Other_Income\",updated_df[\"Average_Income\"]-40000)"
      ],
      "metadata": {
        "id": "iUde9_uEIP7q"
      },
      "execution_count": 44,
      "outputs": []
    },
    {
      "cell_type": "code",
      "source": [
        "updated_df.show()"
      ],
      "metadata": {
        "colab": {
          "base_uri": "https://localhost:8080/"
        },
        "id": "0wsWY_LsJvfz",
        "outputId": "f6a6dda4-2fcf-4f7f-844a-90c49e7c9413"
      },
      "execution_count": 45,
      "outputs": [
        {
          "output_type": "stream",
          "name": "stdout",
          "text": [
            "+----------+----------+----------+----------+--------------+----+------------+\n",
            "|     State|Population|Median_Age|Households|Average_Income|Year|Other_Income|\n",
            "+----------+----------+----------+----------+--------------+----+------------+\n",
            "|California|  39538223|      36.5|  13000000|         78000|2020|       38000|\n",
            "|     Texas|  29145505|      34.8|   9800000|         67000|2020|       27000|\n",
            "|   Florida|  21538187|      42.0|   8000000|         61000|2020|       21000|\n",
            "|  New York|  20201249|      39.0|   7500000|         75000|2020|       35000|\n",
            "|  Illinois|  12812508|      38.5|   4900000|         68000|2020|       28000|\n",
            "|New Jersey|   3104614|      38.0|   1200000|         65000|2020|       25000|\n",
            "+----------+----------+----------+----------+--------------+----+------------+\n",
            "\n"
          ]
        }
      ]
    },
    {
      "cell_type": "code",
      "source": [
        "#Rename columns\n",
        "updated_df=updated_df.withColumnRenamed(\"Other_Income\",\"Extra_Income\")"
      ],
      "metadata": {
        "id": "UjQ9YPDRJ8I6"
      },
      "execution_count": 47,
      "outputs": []
    },
    {
      "cell_type": "code",
      "source": [
        "updated_df.show()"
      ],
      "metadata": {
        "colab": {
          "base_uri": "https://localhost:8080/"
        },
        "id": "Go57uKGwKJPE",
        "outputId": "9dba0a3a-4a1e-4c97-b97a-6fc4b5500e90"
      },
      "execution_count": 48,
      "outputs": [
        {
          "output_type": "stream",
          "name": "stdout",
          "text": [
            "+----------+----------+----------+----------+--------------+----+------------+\n",
            "|     State|Population|Median_Age|Households|Average_Income|Year|Extra_Income|\n",
            "+----------+----------+----------+----------+--------------+----+------------+\n",
            "|California|  39538223|      36.5|  13000000|         78000|2020|       38000|\n",
            "|     Texas|  29145505|      34.8|   9800000|         67000|2020|       27000|\n",
            "|   Florida|  21538187|      42.0|   8000000|         61000|2020|       21000|\n",
            "|  New York|  20201249|      39.0|   7500000|         75000|2020|       35000|\n",
            "|  Illinois|  12812508|      38.5|   4900000|         68000|2020|       28000|\n",
            "|New Jersey|   3104614|      38.0|   1200000|         65000|2020|       25000|\n",
            "+----------+----------+----------+----------+--------------+----+------------+\n",
            "\n"
          ]
        }
      ]
    },
    {
      "cell_type": "code",
      "source": [
        "#Remove unnecessary column\n",
        "updated_df=updated_df.drop(\"Extra_Income\").show()"
      ],
      "metadata": {
        "colab": {
          "base_uri": "https://localhost:8080/"
        },
        "id": "CIVCXPQzKhgn",
        "outputId": "bbc81cd9-9761-4d51-fdf2-c27479ac5b20"
      },
      "execution_count": 50,
      "outputs": [
        {
          "output_type": "stream",
          "name": "stdout",
          "text": [
            "+----------+----------+----------+----------+--------------+----+\n",
            "|     State|Population|Median_Age|Households|Average_Income|Year|\n",
            "+----------+----------+----------+----------+--------------+----+\n",
            "|California|  39538223|      36.5|  13000000|         78000|2020|\n",
            "|     Texas|  29145505|      34.8|   9800000|         67000|2020|\n",
            "|   Florida|  21538187|      42.0|   8000000|         61000|2020|\n",
            "|  New York|  20201249|      39.0|   7500000|         75000|2020|\n",
            "|  Illinois|  12812508|      38.5|   4900000|         68000|2020|\n",
            "|New Jersey|   3104614|      38.0|   1200000|         65000|2020|\n",
            "+----------+----------+----------+----------+--------------+----+\n",
            "\n"
          ]
        }
      ]
    },
    {
      "cell_type": "markdown",
      "source": [
        "**Row Operations**"
      ],
      "metadata": {
        "id": "VVqxDHCHLBRB"
      }
    },
    {
      "cell_type": "code",
      "source": [
        "filtered_df = updated_df.filter(updated_df[\"Average_Income\"] > 70000)\n",
        "filtered_df.show()\n"
      ],
      "metadata": {
        "colab": {
          "base_uri": "https://localhost:8080/"
        },
        "id": "CwlUmWtpNFNo",
        "outputId": "6af5f28a-f7a2-48a9-c24a-f86811a1c896"
      },
      "execution_count": 61,
      "outputs": [
        {
          "output_type": "stream",
          "name": "stdout",
          "text": [
            "+----------+----------+----------+----------+--------------+----+\n",
            "|     State|Population|Median_Age|Households|Average_Income|Year|\n",
            "+----------+----------+----------+----------+--------------+----+\n",
            "|California|  39538223|      36.5|  13000000|         78000|2020|\n",
            "|  New York|  20201249|      39.0|   7500000|         75000|2020|\n",
            "+----------+----------+----------+----------+--------------+----+\n",
            "\n"
          ]
        }
      ]
    },
    {
      "cell_type": "code",
      "source": [
        "#Also you can use groupBy and Aggregate functions"
      ],
      "metadata": {
        "id": "2aYmeT7rNKgE"
      },
      "execution_count": null,
      "outputs": []
    },
    {
      "cell_type": "markdown",
      "source": [
        "#JOINS IN PYSPARK"
      ],
      "metadata": {
        "id": "N-yykmRHOLWV"
      }
    },
    {
      "cell_type": "code",
      "source": [
        "# New dataset\n",
        "data2 = [\n",
        "    (\"California\", \"West\", 5.2),\n",
        "    (\"Texas\", \"South\", 4.1),\n",
        "    (\"Florida\", \"South\", 3.8),\n",
        "    (\"New York\", \"Northeast\", 5.9),\n",
        "    (\"Illinois\", \"Midwest\", 4.7),\n",
        "    (\"Nevada\", \"West\", 5.5),\n",
        "    (\"Ohio\", \"Midwest\", 4.4)\n",
        "]\n",
        "\n",
        "columns2 = [\"State\", \"Region\", \"Unemployment_Rate\"]\n",
        "\n",
        "df2 = spark.createDataFrame(data2, columns2)\n",
        "df2.show()"
      ],
      "metadata": {
        "colab": {
          "base_uri": "https://localhost:8080/"
        },
        "id": "RzYBVP7kNkPW",
        "outputId": "7658002f-429f-4a93-9e92-788568d37a5e"
      },
      "execution_count": 62,
      "outputs": [
        {
          "output_type": "stream",
          "name": "stdout",
          "text": [
            "+----------+---------+-----------------+\n",
            "|     State|   Region|Unemployment_Rate|\n",
            "+----------+---------+-----------------+\n",
            "|California|     West|              5.2|\n",
            "|     Texas|    South|              4.1|\n",
            "|   Florida|    South|              3.8|\n",
            "|  New York|Northeast|              5.9|\n",
            "|  Illinois|  Midwest|              4.7|\n",
            "|    Nevada|     West|              5.5|\n",
            "|      Ohio|  Midwest|              4.4|\n",
            "+----------+---------+-----------------+\n",
            "\n"
          ]
        }
      ]
    },
    {
      "cell_type": "code",
      "source": [
        "#inner join -->Only rows where State exists in both DataFrames\n",
        "inner_join = updated_df.join(df2, on=\"State\", how=\"inner\")\n",
        "inner_join.show()\n"
      ],
      "metadata": {
        "colab": {
          "base_uri": "https://localhost:8080/"
        },
        "id": "XTzdu5DaOcbg",
        "outputId": "8e5b40c9-1446-400f-f880-dcfd14904ffa"
      },
      "execution_count": 63,
      "outputs": [
        {
          "output_type": "stream",
          "name": "stdout",
          "text": [
            "+----------+----------+----------+----------+--------------+----+---------+-----------------+\n",
            "|     State|Population|Median_Age|Households|Average_Income|Year|   Region|Unemployment_Rate|\n",
            "+----------+----------+----------+----------+--------------+----+---------+-----------------+\n",
            "|California|  39538223|      36.5|  13000000|         78000|2020|     West|              5.2|\n",
            "|   Florida|  21538187|      42.0|   8000000|         61000|2020|    South|              3.8|\n",
            "|  Illinois|  12812508|      38.5|   4900000|         68000|2020|  Midwest|              4.7|\n",
            "|  New York|  20201249|      39.0|   7500000|         75000|2020|Northeast|              5.9|\n",
            "|     Texas|  29145505|      34.8|   9800000|         67000|2020|    South|              4.1|\n",
            "+----------+----------+----------+----------+--------------+----+---------+-----------------+\n",
            "\n"
          ]
        }
      ]
    },
    {
      "cell_type": "code",
      "source": [
        "#left join-->All rows from updated_df, plus matches from df2\n",
        "left_join = updated_df.join(df2, on=\"State\", how=\"left\")\n",
        "left_join.show()\n"
      ],
      "metadata": {
        "colab": {
          "base_uri": "https://localhost:8080/"
        },
        "id": "sDp0SCeqOwfQ",
        "outputId": "8e41503d-ea8a-4787-f61d-3047ed2c4d6a"
      },
      "execution_count": 64,
      "outputs": [
        {
          "output_type": "stream",
          "name": "stdout",
          "text": [
            "+----------+----------+----------+----------+--------------+----+---------+-----------------+\n",
            "|     State|Population|Median_Age|Households|Average_Income|Year|   Region|Unemployment_Rate|\n",
            "+----------+----------+----------+----------+--------------+----+---------+-----------------+\n",
            "|     Texas|  29145505|      34.8|   9800000|         67000|2020|    South|              4.1|\n",
            "|  Illinois|  12812508|      38.5|   4900000|         68000|2020|  Midwest|              4.7|\n",
            "|   Florida|  21538187|      42.0|   8000000|         61000|2020|    South|              3.8|\n",
            "|California|  39538223|      36.5|  13000000|         78000|2020|     West|              5.2|\n",
            "|  New York|  20201249|      39.0|   7500000|         75000|2020|Northeast|              5.9|\n",
            "|New Jersey|   3104614|      NULL|   1200000|         65000|2020|     NULL|             NULL|\n",
            "+----------+----------+----------+----------+--------------+----+---------+-----------------+\n",
            "\n"
          ]
        }
      ]
    },
    {
      "cell_type": "code",
      "source": [
        "#right join -->All rows from df2, plus matches from updated_df\n",
        "right_join = updated_df.join(df2, on=\"State\", how=\"right\")\n",
        "right_join.show()\n"
      ],
      "metadata": {
        "colab": {
          "base_uri": "https://localhost:8080/"
        },
        "id": "GSz3cX99PAE9",
        "outputId": "9f1594bf-1294-4b68-f975-35d575360d25"
      },
      "execution_count": 65,
      "outputs": [
        {
          "output_type": "stream",
          "name": "stdout",
          "text": [
            "+----------+----------+----------+----------+--------------+----+---------+-----------------+\n",
            "|     State|Population|Median_Age|Households|Average_Income|Year|   Region|Unemployment_Rate|\n",
            "+----------+----------+----------+----------+--------------+----+---------+-----------------+\n",
            "|     Texas|  29145505|      34.8|   9800000|         67000|2020|    South|              4.1|\n",
            "|   Florida|  21538187|      42.0|   8000000|         61000|2020|    South|              3.8|\n",
            "|California|  39538223|      36.5|  13000000|         78000|2020|     West|              5.2|\n",
            "|      Ohio|      NULL|      NULL|      NULL|          NULL|NULL|  Midwest|              4.4|\n",
            "|    Nevada|      NULL|      NULL|      NULL|          NULL|NULL|     West|              5.5|\n",
            "|  Illinois|  12812508|      38.5|   4900000|         68000|2020|  Midwest|              4.7|\n",
            "|  New York|  20201249|      39.0|   7500000|         75000|2020|Northeast|              5.9|\n",
            "+----------+----------+----------+----------+--------------+----+---------+-----------------+\n",
            "\n"
          ]
        }
      ]
    },
    {
      "cell_type": "code",
      "source": [
        "#full_join --> All rows from both DataFrames, with NULLs where no match\n",
        "full_join = updated_df.join(df2, on=\"State\", how=\"outer\")\n",
        "full_join.show()\n"
      ],
      "metadata": {
        "colab": {
          "base_uri": "https://localhost:8080/"
        },
        "id": "yzuz7U_HPIxL",
        "outputId": "c09a3f92-7f90-41a0-9171-8f90754f5bf2"
      },
      "execution_count": 66,
      "outputs": [
        {
          "output_type": "stream",
          "name": "stdout",
          "text": [
            "+----------+----------+----------+----------+--------------+----+---------+-----------------+\n",
            "|     State|Population|Median_Age|Households|Average_Income|Year|   Region|Unemployment_Rate|\n",
            "+----------+----------+----------+----------+--------------+----+---------+-----------------+\n",
            "|California|  39538223|      36.5|  13000000|         78000|2020|     West|              5.2|\n",
            "|   Florida|  21538187|      42.0|   8000000|         61000|2020|    South|              3.8|\n",
            "|  Illinois|  12812508|      38.5|   4900000|         68000|2020|  Midwest|              4.7|\n",
            "|    Nevada|      NULL|      NULL|      NULL|          NULL|NULL|     West|              5.5|\n",
            "|New Jersey|   3104614|      NULL|   1200000|         65000|2020|     NULL|             NULL|\n",
            "|  New York|  20201249|      39.0|   7500000|         75000|2020|Northeast|              5.9|\n",
            "|      Ohio|      NULL|      NULL|      NULL|          NULL|NULL|  Midwest|              4.4|\n",
            "|     Texas|  29145505|      34.8|   9800000|         67000|2020|    South|              4.1|\n",
            "+----------+----------+----------+----------+--------------+----+---------+-----------------+\n",
            "\n"
          ]
        }
      ]
    },
    {
      "cell_type": "markdown",
      "source": [
        "UNION\n",
        "\n",
        "*   Both DataFrames have exactly the same number of columns, and\n",
        "*  The columns are in the same order and data types.\n",
        "\n",
        "\n",
        "\n",
        "\n",
        "\n",
        "\n",
        "\n",
        "\n"
      ],
      "metadata": {
        "id": "gs4C_OSHP4HR"
      }
    },
    {
      "cell_type": "code",
      "source": [
        "#eg-> df_union=df1.union(df2)"
      ],
      "metadata": {
        "id": "NsLs4P8qQw1M"
      },
      "execution_count": null,
      "outputs": []
    }
  ]
}