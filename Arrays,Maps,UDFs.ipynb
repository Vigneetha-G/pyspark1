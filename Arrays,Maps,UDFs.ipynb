{
  "nbformat": 4,
  "nbformat_minor": 0,
  "metadata": {
    "colab": {
      "provenance": []
    },
    "kernelspec": {
      "name": "python3",
      "display_name": "Python 3"
    },
    "language_info": {
      "name": "python"
    }
  },
  "cells": [
    {
      "cell_type": "code",
      "execution_count": 1,
      "metadata": {
        "id": "cP4Z5Uz3yjSV"
      },
      "outputs": [],
      "source": [
        "# 1. Install Java\n",
        "!apt-get install openjdk-11-jdk-headless -qq > /dev/null\n",
        "\n",
        "# 2. Download Spark 3.5.0 with Hadoop 3\n",
        "!wget -q https://archive.apache.org/dist/spark/spark-3.5.0/spark-3.5.0-bin-hadoop3.tgz\n",
        "!tar xf spark-3.5.0-bin-hadoop3.tgz\n",
        "\n",
        "# 3. Set environment variables\n",
        "import os\n",
        "os.environ[\"JAVA_HOME\"] = \"/usr/lib/jvm/java-11-openjdk-amd64\"\n",
        "os.environ[\"SPARK_HOME\"] = \"/content/spark-3.5.0-bin-hadoop3\""
      ]
    },
    {
      "cell_type": "code",
      "source": [
        "# 4. Install findspark\n",
        "!pip install -q findspark\n",
        "import findspark\n",
        "findspark.init()"
      ],
      "metadata": {
        "id": "eg8mkQh9yxgN"
      },
      "execution_count": 2,
      "outputs": []
    },
    {
      "cell_type": "code",
      "source": [
        "# 5. Start Spark session\n",
        "from pyspark.sql import SparkSession\n",
        "spark = SparkSession.builder.master(\"local[*]\").appName(\"Colab-PySpark\").getOrCreate()"
      ],
      "metadata": {
        "id": "u4SbtvGUy8Kg"
      },
      "execution_count": 3,
      "outputs": []
    },
    {
      "cell_type": "code",
      "source": [
        "spark"
      ],
      "metadata": {
        "colab": {
          "base_uri": "https://localhost:8080/",
          "height": 219
        },
        "id": "Daryba5EzEcd",
        "outputId": "517037cb-c03c-4d4d-aaa6-f001f7ba420d"
      },
      "execution_count": 4,
      "outputs": [
        {
          "output_type": "execute_result",
          "data": {
            "text/plain": [
              "<pyspark.sql.session.SparkSession at 0x7f35f714cb90>"
            ],
            "text/html": [
              "\n",
              "            <div>\n",
              "                <p><b>SparkSession - in-memory</b></p>\n",
              "                \n",
              "        <div>\n",
              "            <p><b>SparkContext</b></p>\n",
              "\n",
              "            <p><a href=\"http://192e433d5e55:4040\">Spark UI</a></p>\n",
              "\n",
              "            <dl>\n",
              "              <dt>Version</dt>\n",
              "                <dd><code>v3.5.1</code></dd>\n",
              "              <dt>Master</dt>\n",
              "                <dd><code>local[*]</code></dd>\n",
              "              <dt>AppName</dt>\n",
              "                <dd><code>Colab-PySpark</code></dd>\n",
              "            </dl>\n",
              "        </div>\n",
              "        \n",
              "            </div>\n",
              "        "
            ]
          },
          "metadata": {},
          "execution_count": 4
        }
      ]
    },
    {
      "cell_type": "markdown",
      "source": [
        "#Arrays in Pyspark"
      ],
      "metadata": {
        "id": "yV0Gqe2T3Pc8"
      }
    },
    {
      "cell_type": "markdown",
      "source": [
        "Useful for storing lists within columns"
      ],
      "metadata": {
        "id": "y_1Z4trl34_S"
      }
    },
    {
      "cell_type": "code",
      "source": [
        "from pyspark.sql import SparkSession\n",
        "from pyspark.sql.functions import array, lit, col,udf"
      ],
      "metadata": {
        "id": "pxYZu1TL2dvs"
      },
      "execution_count": 12,
      "outputs": []
    },
    {
      "cell_type": "code",
      "source": [
        "# Create simple DataFrame\n",
        "data = [(\"Alice\",), (\"Bob\",), (\"Charlie\",)]\n",
        "df1 = spark.createDataFrame(data, [\"Name\"])\n",
        "\n",
        "# Add an array column\n",
        "df1 = df1.withColumn(\"Scores\", array(lit(85), lit(90), lit(78)))\n",
        "\n",
        "df1.show(truncate=False)"
      ],
      "metadata": {
        "colab": {
          "base_uri": "https://localhost:8080/"
        },
        "id": "Iogv13zT2k5D",
        "outputId": "ae5d398e-86e2-457a-d8bc-e6e1de3a55c8"
      },
      "execution_count": 6,
      "outputs": [
        {
          "output_type": "stream",
          "name": "stdout",
          "text": [
            "+-------+------------+\n",
            "|Name   |Scores      |\n",
            "+-------+------------+\n",
            "|Alice  |[85, 90, 78]|\n",
            "|Bob    |[85, 90, 78]|\n",
            "|Charlie|[85, 90, 78]|\n",
            "+-------+------------+\n",
            "\n"
          ]
        }
      ]
    },
    {
      "cell_type": "code",
      "source": [
        "#Access the first element in array\n",
        "df1.select(\"Name\", col(\"Scores\")[0].alias(\"First_Score\")).show()\n"
      ],
      "metadata": {
        "colab": {
          "base_uri": "https://localhost:8080/"
        },
        "id": "zwGTva6y27-E",
        "outputId": "043f7f75-4cab-4a8f-ac43-4417024d752f"
      },
      "execution_count": 7,
      "outputs": [
        {
          "output_type": "stream",
          "name": "stdout",
          "text": [
            "+-------+-----------+\n",
            "|   Name|First_Score|\n",
            "+-------+-----------+\n",
            "|  Alice|         85|\n",
            "|    Bob|         85|\n",
            "|Charlie|         85|\n",
            "+-------+-----------+\n",
            "\n"
          ]
        }
      ]
    },
    {
      "cell_type": "markdown",
      "source": [
        "#MAPS In Pyspark"
      ],
      "metadata": {
        "id": "86aqvP_Z3IhT"
      }
    },
    {
      "cell_type": "markdown",
      "source": [
        "Key-value pairs, helpful for dictionary like data"
      ],
      "metadata": {
        "id": "00I2Cp-g3p62"
      }
    },
    {
      "cell_type": "code",
      "source": [
        "from pyspark.sql.types import StructType, StructField, StringType, MapType\n",
        "\n",
        "schema = StructType([\n",
        "    StructField(\"name\", StringType(), True),\n",
        "    StructField(\"properties\", MapType(StringType(), StringType()), True)\n",
        "])\n"
      ],
      "metadata": {
        "id": "bdbWK3Bt3ILN"
      },
      "execution_count": 8,
      "outputs": []
    },
    {
      "cell_type": "code",
      "source": [
        "\n",
        "data = [\n",
        "    (\"Alice\", {\"city\": \"Austin\", \"age\": \"25\"}),\n",
        "    (\"Bob\", {\"city\": \"Dallas\", \"age\": \"30\"})\n",
        "]\n",
        "\n",
        "df = spark.createDataFrame(data, schema=schema)\n",
        "df.show(truncate=False)"
      ],
      "metadata": {
        "colab": {
          "base_uri": "https://localhost:8080/"
        },
        "id": "rGmZB5x23amq",
        "outputId": "00ef296b-11de-46c0-fb13-f8264d62a7c1"
      },
      "execution_count": 9,
      "outputs": [
        {
          "output_type": "stream",
          "name": "stdout",
          "text": [
            "+-----+---------------------------+\n",
            "|name |properties                 |\n",
            "+-----+---------------------------+\n",
            "|Alice|{city -> Austin, age -> 25}|\n",
            "|Bob  |{city -> Dallas, age -> 30}|\n",
            "+-----+---------------------------+\n",
            "\n"
          ]
        }
      ]
    },
    {
      "cell_type": "markdown",
      "source": [
        "#User Defined Functions"
      ],
      "metadata": {
        "id": "OMLFW2Rl31pF"
      }
    },
    {
      "cell_type": "markdown",
      "source": [
        "\n",
        "\n",
        "*   Reuse and repeat common tasks.\n",
        "*   Registered directly with spark & can be shared.\n",
        "\n",
        "\n",
        "*   Pyspark UDFs for smaller datasets.\n",
        "*   Pandas UDFs for large datasets.\n",
        "\n",
        "\n",
        "\n",
        "\n",
        "\n",
        "\n",
        "\n"
      ],
      "metadata": {
        "id": "8OwpQ-AN4Xh1"
      }
    },
    {
      "cell_type": "code",
      "source": [
        "#Defining and registering a UDF\n",
        "\n",
        "#define a function\n",
        "def to_uppercase(s):\n",
        "  return s.upper() if s else None"
      ],
      "metadata": {
        "id": "QXMsKsyx3jIy"
      },
      "execution_count": 10,
      "outputs": []
    },
    {
      "cell_type": "code",
      "source": [
        "#register the function\n",
        "to_uppercase_udf=udf(to_uppercase,StringType())"
      ],
      "metadata": {
        "id": "WabzHExq5RKQ"
      },
      "execution_count": 13,
      "outputs": []
    },
    {
      "cell_type": "code",
      "source": [
        "# apply udf to dataframe\n",
        "df1=df1.withColumn(\"name_upper\",to_uppercase_udf(df1[\"name\"]))"
      ],
      "metadata": {
        "id": "29SWTdrJ5uHv"
      },
      "execution_count": 15,
      "outputs": []
    },
    {
      "cell_type": "code",
      "source": [
        "df1.show()"
      ],
      "metadata": {
        "colab": {
          "base_uri": "https://localhost:8080/"
        },
        "id": "xzQjrPLd6cA6",
        "outputId": "970728ad-9c3b-4cb7-9415-265656fe0b42"
      },
      "execution_count": 16,
      "outputs": [
        {
          "output_type": "stream",
          "name": "stdout",
          "text": [
            "+-------+------------+----------+\n",
            "|   Name|      Scores|name_upper|\n",
            "+-------+------------+----------+\n",
            "|  Alice|[85, 90, 78]|     ALICE|\n",
            "|    Bob|[85, 90, 78]|       BOB|\n",
            "|Charlie|[85, 90, 78]|   CHARLIE|\n",
            "+-------+------------+----------+\n",
            "\n"
          ]
        }
      ]
    },
    {
      "cell_type": "code",
      "source": [
        "#Example-#Step 1:define a function\n",
        "def add_prefix(name):\n",
        "    return f\"Hello {name}\" if name else None\n",
        "\n",
        "# Step 2: Register the function as a UDF\n",
        "add_prefix_udf = udf(add_prefix, StringType())\n",
        "\n",
        "# Step 3: Apply the UDF to a column\n",
        "df1= df1.withColumn(\"greeting\", add_prefix_udf(df1[\"name\"]))\n",
        "\n",
        "# Step 4: Show results\n",
        "df1.show()"
      ],
      "metadata": {
        "colab": {
          "base_uri": "https://localhost:8080/"
        },
        "id": "q6wgaBjH8mBX",
        "outputId": "b695bb5b-eb9a-494a-cd70-46417415c254"
      },
      "execution_count": 18,
      "outputs": [
        {
          "output_type": "stream",
          "name": "stdout",
          "text": [
            "+-------+------------+----------+-------------+\n",
            "|   Name|      Scores|name_upper|     greeting|\n",
            "+-------+------------+----------+-------------+\n",
            "|  Alice|[85, 90, 78]|     ALICE|  Hello Alice|\n",
            "|    Bob|[85, 90, 78]|       BOB|    Hello Bob|\n",
            "|Charlie|[85, 90, 78]|   CHARLIE|Hello Charlie|\n",
            "+-------+------------+----------+-------------+\n",
            "\n"
          ]
        }
      ]
    },
    {
      "cell_type": "markdown",
      "source": [
        "**Pandas UDF**(for large datasets)"
      ],
      "metadata": {
        "id": "7zWEAjXh9F1e"
      }
    },
    {
      "cell_type": "markdown",
      "source": [
        "\n",
        "\n",
        "*   Eliminates costly conversions of code and data.\n",
        "*   Does not need to be registered to SparkSession.\n",
        "\n",
        "\n"
      ],
      "metadata": {
        "id": "T4_5XyDi9PYH"
      }
    },
    {
      "cell_type": "code",
      "source": [
        "from pyspark.sql.functions import pandas_udf"
      ],
      "metadata": {
        "id": "OtKP5S4u9yRn"
      },
      "execution_count": 19,
      "outputs": []
    },
    {
      "cell_type": "code",
      "source": [
        "@pandas_udf(\"float\")\n",
        "def fahrenheit_to_celsius_pandas(temp_f):\n",
        "  return (temp_f-32) * 5.0/9.0"
      ],
      "metadata": {
        "id": "ZIfBs8b6-EGs"
      },
      "execution_count": 21,
      "outputs": []
    },
    {
      "cell_type": "code",
      "source": [
        "data1 = [(32.0,), (68.0,), (100.0,), (212.0,)]\n",
        "df3 = spark.createDataFrame(data1, [\"temp_f\"])"
      ],
      "metadata": {
        "id": "yhAaAMff-uAY"
      },
      "execution_count": 22,
      "outputs": []
    },
    {
      "cell_type": "code",
      "source": [
        "df3.show()"
      ],
      "metadata": {
        "colab": {
          "base_uri": "https://localhost:8080/"
        },
        "id": "D7fRKOiQ-zDL",
        "outputId": "48b816e9-6b30-4528-f416-077679dd9b7a"
      },
      "execution_count": 23,
      "outputs": [
        {
          "output_type": "stream",
          "name": "stdout",
          "text": [
            "+------+\n",
            "|temp_f|\n",
            "+------+\n",
            "|  32.0|\n",
            "|  68.0|\n",
            "| 100.0|\n",
            "| 212.0|\n",
            "+------+\n",
            "\n"
          ]
        }
      ]
    }
  ]
}